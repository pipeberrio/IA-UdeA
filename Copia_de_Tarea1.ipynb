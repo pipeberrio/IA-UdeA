{
  "nbformat": 4,
  "nbformat_minor": 0,
  "metadata": {
    "colab": {
      "private_outputs": true,
      "provenance": [],
      "include_colab_link": true
    },
    "kernelspec": {
      "name": "python3",
      "display_name": "Python 3"
    },
    "language_info": {
      "name": "python"
    }
  },
  "cells": [
    {
      "cell_type": "markdown",
      "metadata": {
        "id": "view-in-github",
        "colab_type": "text"
      },
      "source": [
        "<a href=\"https://colab.research.google.com/github/pipeberrio/IA-UdeA/blob/main/Copia_de_Tarea1.ipynb\" target=\"_parent\"><img src=\"https://colab.research.google.com/assets/colab-badge.svg\" alt=\"Open In Colab\"/></a>"
      ]
    },
    {
      "cell_type": "markdown",
      "source": [
        "<p><img alt=\"banner\" height=\"252px\" width=\"1080px\" src=\"https://docs.google.com/uc?export=download&id=1SqbMIjMfsMlSukiTyfMJ0VMuDlP2hGhx\"  align=\"center\" hspace=\"10px\" vspace=\"0px\" ></p>"
      ],
      "metadata": {
        "id": "ix-VqRWgbucB"
      }
    },
    {
      "cell_type": "markdown",
      "source": [
        "# <font color='056938'> **Descripción del problema** </font>\n",
        "\n",
        "La agencia de coperación europea esta diseñando un programa de intervención en los municipios de Colombia con el fin de favorecer la conectividad de aquellos territorios más apartados. Para el diseño de la intervensión se requiere construir una base de datos con la siguiente información de los diferentes municipios de Colombia\n",
        "\n",
        "\n",
        "* Nombre del municipio\n",
        "* Código DANE del municipio\n",
        "* Departamento al que pertenece\n",
        "* Código del Departamento\n",
        "* Acto jurídico de creación del Municipio\n",
        "* Área del municipio\n",
        "* Localización de la cabecera municipal (latitud, longitud)\n",
        "* Distancia a la cabecera municipal de la capital del departamento\n",
        "* Número de habitantes del Municipio\n",
        "* Nombre del alcalde\n",
        "* Dirección de la alcaldía\n",
        "* correo electronico de la alcaldía\n",
        "* Página web de la alcaldía\n",
        "\n",
        "\n",
        "\n",
        "\n",
        "\n"
      ],
      "metadata": {
        "id": "__NNq0FKbwMw"
      }
    },
    {
      "cell_type": "markdown",
      "source": [
        "Desafortudamente la información se encunetra dispersa en diferentes archivos y diferentes formatos. De momento se dispone de tres archivos:\n",
        "* La división política por municipio obtenida del DANE (`DIVIPOLA_Municipios.xlsx`)\n",
        "* El directorio de municipios (`Directorio-Alcaldes-2024-2027.xlsx`)\n",
        "* Un archivo georeferenciado de los municipios (`co_2018_MGN_MPIO_POLITICO.geojson`)\n",
        "\n",
        "El siguiente código carga lso archivos mencionados a este notebook\n"
      ],
      "metadata": {
        "id": "6tt5URMjedJT"
      }
    },
    {
      "cell_type": "code",
      "execution_count": null,
      "metadata": {
        "id": "ij_Z5EzEbpIV"
      },
      "outputs": [],
      "source": [
        "!gdown 1CMEqYcmeGh0zf9rXywAFegZ1xA9IVZAb # DIVIPOLA_Municipios.xlsx\n",
        "!gdown 1sqn2GDhl7ItHy-NfdMwjXlJqn0fa7wp8 # Directorio-Alcaldes-2024-2027.xlsx\n",
        "!gdown 1yyOPsDXgSMJcISDH-_7HqNvqoynnOcTQ # co_2018_MGN_MPIO_POLITICO.geojson"
      ]
    },
    {
      "cell_type": "markdown",
      "source": [
        "Note que particularmente el último archivo (`co_2018_MGN_MPIO_POLITICO.geojson`) es del tipo geojson. El formato GeoJSON es un estándar de codificación para representar datos geoespaciales utilizando el formato de notación de objetos de JavaScript (JSON). El siguiente código permite visualizar dicha información georeferenciada."
      ],
      "metadata": {
        "id": "R1i56DqNgkVq"
      }
    },
    {
      "cell_type": "code",
      "source": [
        "import plotly.express as px\n",
        "import geopandas as gpd\n",
        "\n",
        "# Load the GeoJSON file into a GeoDataFrame\n",
        "gdf = gpd.read_file('co_2018_MGN_MPIO_POLITICO.geojson')\n",
        "\n",
        "# Convert the GeoDataFrame to GeoJSON format\n",
        "geojson = gdf.__geo_interface__\n",
        "\n",
        "# Create a Plotly map\n",
        "fig = px.choropleth_mapbox(gdf,\n",
        "                           geojson=geojson,\n",
        "                           locations=gdf.index,\n",
        "                           color='MPIO_NAREA',  # Change to the column you want to visualize\n",
        "                           center={\"lat\": 7.111788462, \"lon\": -75.56223474},\n",
        "                           mapbox_style=\"carto-positron\",\n",
        "                           color_continuous_scale='RdYlGn',\n",
        "                           zoom=4)\n",
        "\n",
        "# Hide the color scale\n",
        "fig.update_layout(coloraxis_showscale=False)\n",
        "\n",
        "# Show the map\n",
        "fig.show()\n",
        "\n"
      ],
      "metadata": {
        "id": "FZNB72o5iA6J"
      },
      "execution_count": null,
      "outputs": []
    },
    {
      "cell_type": "markdown",
      "source": [
        "Sin embargo, note que dicho archivo contiene no solo información georeferenciada sino otra información de interes para cada municipio\n",
        "\n",
        "![](https://docs.google.com/uc?export=download&id=1qNUSHFUGP_L0jfke4r8aRZJU4362XY6X)\n",
        "\n"
      ],
      "metadata": {
        "id": "cJlKt9wbl4Kv"
      }
    },
    {
      "cell_type": "markdown",
      "source": [
        "## <font color='8EC044'> **Ejercicio** </font>\n",
        "\n",
        "Construya un archivos de datos que incluya toda la información requerida. Tenga presente que de momento no es necesario que valide o corrija la información fatante o defectuosa.\n",
        "\n",
        "Usted debera adicionar en este notebook todos los pasos seguidos para construir el archivo"
      ],
      "metadata": {
        "id": "OFVzK3UImpox"
      }
    },
    {
      "cell_type": "markdown",
      "source": [
        "**Raul Felipe Berrio Gomez 1035416370**"
      ],
      "metadata": {
        "id": "cMv5K4mTnodx"
      }
    },
    {
      "cell_type": "code",
      "source": [
        "import pandas as pd\n",
        "import geopandas as gpd\n",
        "\n",
        "# 1. Cargar los archivos\n",
        "# Cargamos los archivos necesarios: la base de datos DIVIPOLA, el archivo de alcaldes y el archivo GeoJSON con los polígonos de los municipios.\n",
        "divipola_df = pd.read_excel('DIVIPOLA_Municipios.xlsx', header=None)\n",
        "alcaldes_df = pd.read_excel('Directorio-Alcaldes-2024-2027.xlsx')\n",
        "gdf = gpd.read_file('co_2018_MGN_MPIO_POLITICO.geojson')\n",
        "\n",
        "# 2. Renombrar columnas para facilitar la unión\n",
        "# Renombramos las columnas de los archivos cargados para que tengan nombres más descriptivos y uniformes, lo que facilita la posterior unión de los DataFrames.\n",
        "divipola_df.columns = ['Código Departamento', 'Nombre Departamento', 'Código Municipio', 'Nombre Municipio', 'Código Dane', 'Nombre Alcalde', 'Correo Electrónico', 'Dirección Física']\n",
        "alcaldes_df.columns = ['No', 'Departamento', 'Municipio', 'Nombre Alcalde', 'Correo Electrónico', 'Dirección Física', 'Página Web', 'Unnamed']\n",
        "\n",
        "# 3. Limpiar los datos: eliminar espacios en blanco y asegurar mayúsculas/minúsculas consistentes\n",
        "# Este paso es crucial porque los problemas de coincidencia de claves en las uniones suelen deberse a diferencias en el formato del texto\n",
        "# (por ejemplo, espacios en blanco adicionales o inconsistencias en mayúsculas/minúsculas).\n",
        "divipola_df['Código Dane'] = divipola_df['Código Dane'].astype(str).str.strip()  # Limpieza de códigos\n",
        "alcaldes_df['Municipio'] = alcaldes_df['Municipio'].astype(str).str.strip()  # Limpieza de nombres de municipios\n",
        "alcaldes_df['Departamento'] = alcaldes_df['Departamento'].astype(str).str.strip()  # Limpieza de departamentos\n",
        "gdf['MPIO_CCDGO'] = gdf['MPIO_CCDGO'].astype(str).str.strip()  # Limpieza de códigos en el GeoJSON\n",
        "\n",
        "# 4. Primera unión: GeoJSON con la base DIVIPOLA\n",
        "# Unimos la información geográfica de los municipios (gdf) con los datos de DIVIPOLA (divipola_df) usando el código DANE como clave.\n",
        "# El parámetro 'how' se establece en 'left' para asegurarse de que todos los registros de 'gdf' permanezcan, aunque no tengan coincidencias en 'divipola_df'.\n",
        "merged_df = gdf.merge(divipola_df, left_on='MPIO_CCDGO', right_on='Código Dane', how='left')\n",
        "\n",
        "# 5. Verificación de las primeras filas después de la primera unión\n",
        "# Imprimimos algunas filas para asegurarnos de que la unión se realizó correctamente y que los datos de DIVIPOLA están presentes en 'merged_df'.\n",
        "print(\"Después de la primera unión:\")\n",
        "print(merged_df.head())\n",
        "\n",
        "# 6. Segunda unión: agregar información de los alcaldes\n",
        "# Unimos el DataFrame resultante ('merged_df') con la información de los alcaldes ('alcaldes_df').\n",
        "# La unión se hace utilizando las claves 'MPIO_CCDGO' (código del municipio) y 'DPTO_CNMBR' (nombre del departamento) desde el lado izquierdo,\n",
        "# y 'Municipio' y 'Departamento' desde el lado derecho.\n",
        "# También usamos 'how' como 'left' para mantener los datos originales aunque no haya coincidencias en los alcaldes.\n",
        "final_df = merged_df.merge(alcaldes_df, left_on=['MPIO_CCDGO', 'DPTO_CNMBR'], right_on=['Municipio', 'Departamento'], how='left')\n",
        "\n",
        "# 7. Verificación de las primeras filas después de la segunda unión\n",
        "# Verificamos nuevamente si la unión fue exitosa, esta vez con los datos de los alcaldes.\n",
        "print(\"Después de la segunda unión:\")\n",
        "print(final_df.head())\n",
        "\n",
        "# 8. Agrupación con 'groupby' para visualizar agrupaciones\n",
        "# Agrupamos los datos por departamento (DPTO_CNMBR) para ver si hay datos disponibles por departamento y cuántos registros hay por cada uno.\n",
        "grouped_df = final_df.groupby('DPTO_CNMBR').size()\n",
        "\n",
        "\n",
        "# 9. Mostrar la agrupación\n",
        "# Imprimimos la cantidad de registros por cada departamento para verificar si los datos están bien distribuidos.\n",
        "print(\"Agrupación por departamento:\")\n",
        "print(grouped_df)\n",
        "\n",
        "# 10. Guardar el archivo resultante en formato Excel\n",
        "\n",
        "final_df.to_excel('datos_municipios_colombia.xlsx', index=False)\n",
        "\n",
        "# 11. Descargar el archivo generado\n",
        "\n",
        "from google.colab import files\n",
        "files.download('datos_municipios_colombia.xlsx')\n"
      ],
      "metadata": {
        "id": "UWD2ER5pB-HT"
      },
      "execution_count": null,
      "outputs": []
    }
  ]
}